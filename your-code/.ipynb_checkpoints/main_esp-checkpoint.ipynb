{
 "cells": [
  {
   "cell_type": "markdown",
   "metadata": {},
   "source": [
    "# Laboratorio de evaluación de modelos de aprendizaje supervisado\n",
    "\n",
    "Realice los siguientes ejercicios para consolidar sus conocimientos y comprensión de la evaluación de modelos de aprendizaje supervisado."
   ]
  },
  {
   "cell_type": "code",
   "execution_count": 1,
   "metadata": {},
   "outputs": [],
   "source": [
    "import pandas as pd\n",
    "import warnings\n",
    "warnings.filterwarnings('ignore')"
   ]
  },
  {
   "cell_type": "markdown",
   "metadata": {},
   "source": [
    "## Evaluación de modelos de regresión"
   ]
  },
  {
   "cell_type": "code",
   "execution_count": 2,
   "metadata": {
    "scrolled": true
   },
   "outputs": [
    {
     "name": "stdout",
     "output_type": "stream",
     "text": [
      "      CRIM    ZN  INDUS CHAS    NOX     RM   AGE     DIS RAD    TAX  PTRATIO  \\\n",
      "0  0.00632  18.0   2.31    0  0.538  6.575  65.2  4.0900   1  296.0     15.3   \n",
      "1  0.02731   0.0   7.07    0  0.469  6.421  78.9  4.9671   2  242.0     17.8   \n",
      "2  0.02729   0.0   7.07    0  0.469  7.185  61.1  4.9671   2  242.0     17.8   \n",
      "3  0.03237   0.0   2.18    0  0.458  6.998  45.8  6.0622   3  222.0     18.7   \n",
      "4  0.06905   0.0   2.18    0  0.458  7.147  54.2  6.0622   3  222.0     18.7   \n",
      "\n",
      "        B  LSTAT  \n",
      "0  396.90   4.98  \n",
      "1  396.90   9.14  \n",
      "2  392.83   4.03  \n",
      "3  394.63   2.94  \n",
      "4  396.90   5.33  \n",
      "   MEDV\n",
      "0  24.0\n",
      "1  21.6\n",
      "2  34.7\n",
      "3  33.4\n",
      "4  36.2\n"
     ]
    }
   ],
   "source": [
    "from sklearn.datasets import fetch_openml\n",
    "\n",
    "# Cargar el conjunto de datos de Boston desde OpenML por su ID\n",
    "data = fetch_openml(data_id=531, as_frame=True)\n",
    "\n",
    "# Separar las características (X) de la variable objetivo (y)\n",
    "X = pd.DataFrame(data.data, columns=data.feature_names)\n",
    "y = pd.DataFrame(data.target, columns=['MEDV'])\n",
    "\n",
    "# Combinar X e y en un solo DataFrame si es necesario\n",
    "data_combined = pd.concat([X, y], axis=1)\n",
    "\n",
    "# Verificar la forma de X e y\n",
    "print(X.head())\n",
    "print(y.head())"
   ]
  },
  {
   "cell_type": "markdown",
   "metadata": {},
   "source": [
    "## 1. Divida este conjunto de datos en conjuntos de train (80%) y de test (20%).\n",
    "\n",
    "El campo `MEDV` representa el valor medio de las viviendas ocupadas por sus propietarios (en miles de dólares) y es la variable objetivo que queremos predecir."
   ]
  },
  {
   "cell_type": "code",
   "execution_count": 4,
   "metadata": {},
   "outputs": [],
   "source": [
    "from sklearn.model_selection import train_test_split\n",
    "from sklearn.metrics import mean_squared_error, r2_score, mean_absolute_error\n",
    "from sklearn.metrics import accuracy_score, balanced_accuracy_score, precision_score, f1_score, recall_score, confusion_matrix"
   ]
  },
  {
   "cell_type": "code",
   "execution_count": 5,
   "metadata": {},
   "outputs": [
    {
     "name": "stdout",
     "output_type": "stream",
     "text": [
      "Dimensiones de X_train: (404, 13)\n",
      "Dimensiones de X_test: (102, 13)\n",
      "Dimensiones de y_train: (404, 1)\n",
      "Dimensiones de y_test: (102, 1)\n"
     ]
    }
   ],
   "source": [
    "# Your code here\n",
    "# Separar las características (X) de la variable objetivo (y)\n",
    "X = pd.DataFrame(data.data, columns=data.feature_names)\n",
    "y = pd.DataFrame(data.target, columns=['MEDV'])\n",
    "\n",
    "# Dividir los datos en conjuntos de entrenamiento y prueba (80% y 20%)\n",
    "X_train, X_test, y_train, y_test = train_test_split(X, y, test_size=0.2, random_state=42)\n",
    "\n",
    "# Verificar las dimensiones de los conjuntos de entrenamiento y prueba\n",
    "print(f'Dimensiones de X_train: {X_train.shape}')\n",
    "print(f'Dimensiones de X_test: {X_test.shape}')\n",
    "print(f'Dimensiones de y_train: {y_train.shape}')\n",
    "print(f'Dimensiones de y_test: {y_test.shape}')"
   ]
  },
  {
   "cell_type": "markdown",
   "metadata": {},
   "source": [
    "## 2. Entrene un modelo `LinearRegression` en este conjunto de datos y genere predicciones tanto en el conjunto de entrenamiento como en el de prueba."
   ]
  },
  {
   "cell_type": "code",
   "execution_count": 10,
   "metadata": {},
   "outputs": [
    {
     "name": "stdout",
     "output_type": "stream",
     "text": [
      "Predicciones en el conjunto de entrenamiento:\n",
      "[[10.96952405]\n",
      " [19.41196567]\n",
      " [23.06419602]\n",
      " [12.1470648 ]\n",
      " [18.3738116 ]]\n",
      "Predicciones en el conjunto de prueba:\n",
      "[[28.99672362]\n",
      " [36.02556534]\n",
      " [14.81694405]\n",
      " [25.03197915]\n",
      " [18.76987992]]\n"
     ]
    }
   ],
   "source": [
    "# Convertir todas las columnas a tipo flotante y manejar errores de conversión\n",
    "X_train = X_train.apply(pd.to_numeric, errors='coerce')\n",
    "X_test = X_test.apply(pd.to_numeric, errors='coerce')\n",
    "\n",
    "# Verificar y manejar valores NaN en el conjunto de entrenamiento y prueba\n",
    "X_train.fillna(X_train.mean(), inplace=True)\n",
    "X_test.fillna(X_test.mean(), inplace=True)\n",
    "\n",
    "# Intenta entrenar el modelo nuevamente\n",
    "modelo_lr = LinearRegression()\n",
    "modelo_lr.fit(X_train, y_train)\n",
    "\n",
    "# Intenta hacer predicciones nuevamente\n",
    "y_train_pred = modelo_lr.predict(X_train)\n",
    "y_test_pred = modelo_lr.predict(X_test)\n",
    "\n",
    "# Imprimir algunas de las predicciones para verificar\n",
    "print(\"Predicciones en el conjunto de entrenamiento:\")\n",
    "print(y_train_pred[:5])\n",
    "print(\"Predicciones en el conjunto de prueba:\")\n",
    "print(y_test_pred[:5])"
   ]
  },
  {
   "cell_type": "markdown",
   "metadata": {},
   "source": [
    "## 3. Calcule e imprima R-cuadrado tanto para el conjunto de entrenamiento como para el de prueba."
   ]
  },
  {
   "cell_type": "code",
   "execution_count": 11,
   "metadata": {},
   "outputs": [
    {
     "name": "stdout",
     "output_type": "stream",
     "text": [
      "R-cuadrado para el conjunto de entrenamiento: 0.7508856358979673\n",
      "R-cuadrado para el conjunto de prueba: 0.6687594935356347\n"
     ]
    }
   ],
   "source": [
    "# Your code here\n",
    "from sklearn.metrics import r2_score\n",
    "\n",
    "# Calcular R-cuadrado para el conjunto de entrenamiento\n",
    "r2_train = r2_score(y_train, y_train_pred)\n",
    "print(\"R-cuadrado para el conjunto de entrenamiento:\", r2_train)\n",
    "\n",
    "# Calcular R-cuadrado para el conjunto de prueba\n",
    "r2_test = r2_score(y_test, y_test_pred)\n",
    "print(\"R-cuadrado para el conjunto de prueba:\", r2_test)"
   ]
  },
  {
   "cell_type": "markdown",
   "metadata": {},
   "source": [
    "## 4. Calcule e imprima el error cuadrático medio para el conjunto de entrenamiento y de prueba."
   ]
  },
  {
   "cell_type": "code",
   "execution_count": 12,
   "metadata": {},
   "outputs": [
    {
     "name": "stdout",
     "output_type": "stream",
     "text": [
      "Error cuadrático medio para el conjunto de entrenamiento: 21.641412753226312\n",
      "Error cuadrático medio para el conjunto de prueba: 24.291119474973325\n"
     ]
    }
   ],
   "source": [
    "# Your code here\n",
    "from sklearn.metrics import mean_squared_error\n",
    "\n",
    "# Calcular el error cuadrático medio para el conjunto de entrenamiento\n",
    "mse_train = mean_squared_error(y_train, y_train_pred)\n",
    "print(\"Error cuadrático medio para el conjunto de entrenamiento:\", mse_train)\n",
    "\n",
    "# Calcular el error cuadrático medio para el conjunto de prueba\n",
    "mse_test = mean_squared_error(y_test, y_test_pred)\n",
    "print(\"Error cuadrático medio para el conjunto de prueba:\", mse_test)"
   ]
  },
  {
   "cell_type": "markdown",
   "metadata": {},
   "source": [
    "## 5. Calcule e imprima el error medio absoluto para el conjunto de entrenamiento y de prueba."
   ]
  },
  {
   "cell_type": "code",
   "execution_count": 13,
   "metadata": {},
   "outputs": [
    {
     "name": "stdout",
     "output_type": "stream",
     "text": [
      "Error medio absoluto para el conjunto de entrenamiento: 3.3147716267832266\n",
      "Error medio absoluto para el conjunto de prueba: 3.189091965887816\n"
     ]
    }
   ],
   "source": [
    "# Your code here\n",
    "from sklearn.metrics import mean_absolute_error\n",
    "\n",
    "# Calcular el error medio absoluto para el conjunto de entrenamiento\n",
    "mae_train = mean_absolute_error(y_train, y_train_pred)\n",
    "print(\"Error medio absoluto para el conjunto de entrenamiento:\", mae_train)\n",
    "\n",
    "# Calcular el error medio absoluto para el conjunto de prueba\n",
    "mae_test = mean_absolute_error(y_test, y_test_pred)\n",
    "print(\"Error medio absoluto para el conjunto de prueba:\", mae_test)"
   ]
  },
  {
   "cell_type": "markdown",
   "metadata": {},
   "source": [
    "## Evaluación del modelo de clasificación"
   ]
  },
  {
   "cell_type": "code",
   "execution_count": 14,
   "metadata": {},
   "outputs": [],
   "source": [
    "from sklearn.datasets import load_iris\n",
    "\n",
    "data = load_iris()\n",
    "\n",
    "X_c = pd.DataFrame(data[\"data\"], columns=data[\"feature_names\"])\n",
    "y_c = pd.DataFrame(data[\"target\"], columns=[\"class\"])\n",
    "\n",
    "data = pd.concat([X, y], axis=1)"
   ]
  },
  {
   "cell_type": "markdown",
   "metadata": {},
   "source": [
    "## 6. Divida este conjunto de datos en conjuntos de train (80%) y de test (20%).\n",
    "\n",
    "El campo `class` representa el tipo de flor y es la variable objetivo que querremos predecir."
   ]
  },
  {
   "cell_type": "code",
   "execution_count": null,
   "metadata": {},
   "outputs": [],
   "source": [
    "#! pip install plotly"
   ]
  },
  {
   "cell_type": "code",
   "execution_count": 15,
   "metadata": {},
   "outputs": [
    {
     "data": {
      "text/plain": [
       "<Figure size 800x800 with 0 Axes>"
      ]
     },
     "metadata": {},
     "output_type": "display_data"
    }
   ],
   "source": [
    "import matplotlib.pyplot as plt\n",
    "%matplotlib inline\n",
    "import seaborn as sns\n",
    "plt.figure(figsize=(8,8))\n",
    "pd.options.plotting.backend = \"plotly\"\n",
    "sns.set(rc={'figure.figsize':(6,6)});"
   ]
  },
  {
   "cell_type": "code",
   "execution_count": 16,
   "metadata": {},
   "outputs": [
    {
     "name": "stdout",
     "output_type": "stream",
     "text": [
      "Dimensiones de X_train_c: (120, 4)\n",
      "Dimensiones de X_test_c: (30, 4)\n",
      "Dimensiones de y_train_c: (120, 1)\n",
      "Dimensiones de y_test_c: (30, 1)\n"
     ]
    }
   ],
   "source": [
    "# Your code here\n",
    "from sklearn.model_selection import train_test_split\n",
    "\n",
    "# Dividir los datos en conjuntos de entrenamiento y prueba (80% y 20%)\n",
    "X_train_c, X_test_c, y_train_c, y_test_c = train_test_split(X_c, y_c, test_size=0.2, random_state=42)\n",
    "\n",
    "# Verificar las dimensiones de los conjuntos de entrenamiento y prueba\n",
    "print(\"Dimensiones de X_train_c:\", X_train_c.shape)\n",
    "print(\"Dimensiones de X_test_c:\", X_test_c.shape)\n",
    "print(\"Dimensiones de y_train_c:\", y_train_c.shape)\n",
    "print(\"Dimensiones de y_test_c:\", y_test_c.shape)"
   ]
  },
  {
   "cell_type": "markdown",
   "metadata": {},
   "source": [
    "## 7. Entrene un modelo `LogisticRegression` en este conjunto de datos y genere predicciones tanto en el conjunto de entrenamiento como en el de prueba."
   ]
  },
  {
   "cell_type": "code",
   "execution_count": 17,
   "metadata": {},
   "outputs": [
    {
     "name": "stdout",
     "output_type": "stream",
     "text": [
      "Predicciones en el conjunto de entrenamiento:\n",
      "[0 0 1 0 0]\n",
      "Predicciones en el conjunto de prueba:\n",
      "[1 0 2 1 1]\n"
     ]
    }
   ],
   "source": [
    "# Your code here\n",
    "from sklearn.linear_model import LogisticRegression\n",
    "\n",
    "# Crear el modelo de regresión logística\n",
    "modelo_lr = LogisticRegression()\n",
    "\n",
    "# Entrenar el modelo con los datos de entrenamiento\n",
    "modelo_lr.fit(X_train_c, y_train_c)\n",
    "\n",
    "# Generar predicciones en el conjunto de entrenamiento\n",
    "y_train_pred_c = modelo_lr.predict(X_train_c)\n",
    "\n",
    "# Generar predicciones en el conjunto de prueba\n",
    "y_test_pred_c = modelo_lr.predict(X_test_c)\n",
    "\n",
    "# Imprimir algunas de las predicciones para verificar\n",
    "print(\"Predicciones en el conjunto de entrenamiento:\")\n",
    "print(y_train_pred_c[:5])\n",
    "print(\"Predicciones en el conjunto de prueba:\")\n",
    "print(y_test_pred_c[:5])"
   ]
  },
  {
   "cell_type": "markdown",
   "metadata": {},
   "source": [
    "## 8. Calcule e imprima la puntuación de precisión tanto para el conjunto de entrenamiento como para el de pruebas."
   ]
  },
  {
   "cell_type": "markdown",
   "metadata": {},
   "source": [
    "    Esta función resuelve los ejercicios 8,9,10,11,12 y 13."
   ]
  },
  {
   "cell_type": "code",
   "execution_count": 18,
   "metadata": {},
   "outputs": [
    {
     "name": "stdout",
     "output_type": "stream",
     "text": [
      "Precisión en el conjunto de entrenamiento: 0.975\n",
      "Precisión en el conjunto de prueba: 1.0\n"
     ]
    }
   ],
   "source": [
    "# Your code here\n",
    "from sklearn.metrics import accuracy_score\n",
    "\n",
    "# Calcular la precisión para el conjunto de entrenamiento\n",
    "accuracy_train_c = accuracy_score(y_train_c, y_train_pred_c)\n",
    "print(\"Precisión en el conjunto de entrenamiento:\", accuracy_train_c)\n",
    "\n",
    "# Calcular la precisión para el conjunto de prueba\n",
    "accuracy_test_c = accuracy_score(y_test_c, y_test_pred_c)\n",
    "print(\"Precisión en el conjunto de prueba:\", accuracy_test_c)"
   ]
  },
  {
   "cell_type": "markdown",
   "metadata": {},
   "source": [
    "## 9. Calcule e imprima la puntuación de precisión equilibrada tanto para el conjunto de entrenamiento como para el de pruebas."
   ]
  },
  {
   "cell_type": "code",
   "execution_count": 19,
   "metadata": {},
   "outputs": [
    {
     "name": "stdout",
     "output_type": "stream",
     "text": [
      "Precisión equilibrada en el conjunto de entrenamiento: 0.975609756097561\n",
      "Precisión equilibrada en el conjunto de prueba: 1.0\n"
     ]
    }
   ],
   "source": [
    "# Your code here\n",
    "from sklearn.metrics import balanced_accuracy_score\n",
    "\n",
    "# Calcular la precisión equilibrada para el conjunto de entrenamiento\n",
    "balanced_accuracy_train_c = balanced_accuracy_score(y_train_c, y_train_pred_c)\n",
    "print(\"Precisión equilibrada en el conjunto de entrenamiento:\", balanced_accuracy_train_c)\n",
    "\n",
    "# Calcular la precisión equilibrada para el conjunto de prueba\n",
    "balanced_accuracy_test_c = balanced_accuracy_score(y_test_c, y_test_pred_c)\n",
    "print(\"Precisión equilibrada en el conjunto de prueba:\", balanced_accuracy_test_c)"
   ]
  },
  {
   "cell_type": "markdown",
   "metadata": {},
   "source": [
    "## 10. Calcule e imprima la puntuación de precisión tanto para el conjunto de entrenamiento como para el de prueba."
   ]
  },
  {
   "cell_type": "code",
   "execution_count": 20,
   "metadata": {},
   "outputs": [
    {
     "name": "stdout",
     "output_type": "stream",
     "text": [
      "Precisión en el conjunto de entrenamiento: 0.975\n",
      "Precisión en el conjunto de prueba: 1.0\n"
     ]
    }
   ],
   "source": [
    "# Your code here\n",
    "from sklearn.metrics import accuracy_score\n",
    "\n",
    "# Calcular la precisión para el conjunto de entrenamiento\n",
    "accuracy_train_c = accuracy_score(y_train_c, y_train_pred_c)\n",
    "print(\"Precisión en el conjunto de entrenamiento:\", accuracy_train_c)\n",
    "\n",
    "# Calcular la precisión para el conjunto de prueba\n",
    "accuracy_test_c = accuracy_score(y_test_c, y_test_pred_c)\n",
    "print(\"Precisión en el conjunto de prueba:\", accuracy_test_c)"
   ]
  },
  {
   "cell_type": "markdown",
   "metadata": {},
   "source": [
    "## 11. Calcule e imprima la puntuación de recuerdo tanto para el conjunto de entrenamiento como para el de prueba."
   ]
  },
  {
   "cell_type": "code",
   "execution_count": 21,
   "metadata": {},
   "outputs": [
    {
     "name": "stdout",
     "output_type": "stream",
     "text": [
      "Recuerdo en el conjunto de entrenamiento: 0.975609756097561\n",
      "Recuerdo en el conjunto de prueba: 1.0\n"
     ]
    }
   ],
   "source": [
    "# Your code here\n",
    "from sklearn.metrics import recall_score\n",
    "\n",
    "# Calcular el recuerdo para el conjunto de entrenamiento\n",
    "recall_train_c = recall_score(y_train_c, y_train_pred_c, average='macro')\n",
    "print(\"Recuerdo en el conjunto de entrenamiento:\", recall_train_c)\n",
    "\n",
    "# Calcular el recuerdo para el conjunto de prueba\n",
    "recall_test_c = recall_score(y_test_c, y_test_pred_c, average='macro')\n",
    "print(\"Recuerdo en el conjunto de prueba:\", recall_test_c)"
   ]
  },
  {
   "cell_type": "markdown",
   "metadata": {},
   "source": [
    "## 12. Calcule e imprima la puntuación F1 tanto para el conjunto de entrenamiento como para el de prueba."
   ]
  },
  {
   "cell_type": "code",
   "execution_count": 22,
   "metadata": {},
   "outputs": [
    {
     "name": "stdout",
     "output_type": "stream",
     "text": [
      "Puntuación F1 en el conjunto de entrenamiento: 0.974996093139553\n",
      "Puntuación F1 en el conjunto de prueba: 1.0\n"
     ]
    }
   ],
   "source": [
    "# Your code here\n",
    "from sklearn.metrics import f1_score\n",
    "\n",
    "# Calcular la puntuación F1 para el conjunto de entrenamiento\n",
    "f1_train_c = f1_score(y_train_c, y_train_pred_c, average='macro')\n",
    "print(\"Puntuación F1 en el conjunto de entrenamiento:\", f1_train_c)\n",
    "\n",
    "# Calcular la puntuación F1 para el conjunto de prueba\n",
    "f1_test_c = f1_score(y_test_c, y_test_pred_c, average='macro')\n",
    "print(\"Puntuación F1 en el conjunto de prueba:\", f1_test_c)"
   ]
  },
  {
   "cell_type": "markdown",
   "metadata": {},
   "source": [
    "## 13. Generar matrices de confusión tanto para el conjunto de entrenamiento como para el de pruebas."
   ]
  },
  {
   "cell_type": "code",
   "execution_count": 23,
   "metadata": {},
   "outputs": [
    {
     "data": {
      "image/png": "[encoded data removed]",
      "text/plain": [
       "<Figure size 600x600 with 1 Axes>"
      ]
     },
     "metadata": {},
     "output_type": "display_data"
    },
    {
     "data": {
      "image/png": "[encoded data removed]",
      "text/plain": [
       "<Figure size 600x600 with 1 Axes>"
      ]
     },
     "metadata": {},
     "output_type": "display_data"
    }
   ],
   "source": [
    "# Your code here\n",
    "import matplotlib.pyplot as plt\n",
    "import seaborn as sns\n",
    "from sklearn.metrics import confusion_matrix\n",
    "\n",
    "# Calcular la matriz de confusión para el conjunto de entrenamiento\n",
    "conf_matrix_train_c = confusion_matrix(y_train_c, y_train_pred_c)\n",
    "\n",
    "# Calcular la matriz de confusión para el conjunto de prueba\n",
    "conf_matrix_test_c = confusion_matrix(y_test_c, y_test_pred_c)\n",
    "\n",
    "# Función para visualizar la matriz de confusión\n",
    "def plot_confusion_matrix(conf_matrix, title):\n",
    "    plt.figure(figsize=(6,6))\n",
    "    sns.heatmap(conf_matrix, annot=True, fmt=\"d\", linewidths=.5, cmap=\"Blues\", cbar=False)\n",
    "    plt.xlabel('Predicciones')\n",
    "    plt.ylabel('Valores Reales')\n",
    "    plt.title(title)\n",
    "    plt.show()\n",
    "\n",
    "# Visualizar la matriz de confusión para el conjunto de entrenamiento\n",
    "plot_confusion_matrix(conf_matrix_train_c, \"Matriz de Confusión del Conjunto de Entrenamiento\")\n",
    "\n",
    "# Visualizar la matriz de confusión para el conjunto de prueba\n",
    "plot_confusion_matrix(conf_matrix_test_c, \"Matriz de Confusión del Conjunto de Prueba\")"
   ]
  },
  {
   "cell_type": "markdown",
   "metadata": {},
   "source": [
    "## Bonus: Para cada uno de los conjuntos de datos de este laboratorio, intente entrenar con algunos de los otros modelos que ha aprendido, vuelva a calcular las métricas de evaluación y compare para determinar qué modelos funcionan mejor en cada conjunto de datos."
   ]
  },
  {
   "cell_type": "code",
   "execution_count": 24,
   "metadata": {},
   "outputs": [
    {
     "name": "stdout",
     "output_type": "stream",
     "text": [
      "MSE - Train: 1.9873586980198015\n",
      "MSE - Test: 8.074299960784312\n",
      "R2 - Train: 0.9771235083427703\n",
      "R2 - Test: 0.889896585000501\n"
     ]
    }
   ],
   "source": [
    "# Your code here\n",
    "from sklearn.ensemble import RandomForestRegressor\n",
    "\n",
    "# Crear y entrenar el modelo de Random Forest\n",
    "modelo_rf = RandomForestRegressor(random_state=42)\n",
    "modelo_rf.fit(X_train, y_train.values.ravel())\n",
    "\n",
    "# Predecir sobre los conjuntos de entrenamiento y prueba\n",
    "y_train_pred_rf = modelo_rf.predict(X_train)\n",
    "y_test_pred_rf = modelo_rf.predict(X_test)\n",
    "\n",
    "# Evaluar el modelo\n",
    "from sklearn.metrics import mean_squared_error, r2_score\n",
    "print(\"MSE - Train:\", mean_squared_error(y_train, y_train_pred_rf))\n",
    "print(\"MSE - Test:\", mean_squared_error(y_test, y_test_pred_rf))\n",
    "print(\"R2 - Train:\", r2_score(y_train, y_train_pred_rf))\n",
    "print(\"R2 - Test:\", r2_score(y_test, y_test_pred_rf))"
   ]
  },
  {
   "cell_type": "code",
   "execution_count": 25,
   "metadata": {},
   "outputs": [
    {
     "name": "stdout",
     "output_type": "stream",
     "text": [
      "Accuracy - Train: 0.975\n",
      "Accuracy - Test: 1.0\n",
      "Balanced Accuracy - Train: 0.9751928288513655\n",
      "Balanced Accuracy - Test: 1.0\n"
     ]
    }
   ],
   "source": [
    "from sklearn.svm import SVC\n",
    "\n",
    "# Crear y entrenar el modelo SVM\n",
    "modelo_svm = SVC(kernel='linear', random_state=42)\n",
    "modelo_svm.fit(X_train_c, y_train_c.values.ravel())\n",
    "\n",
    "# Predecir sobre los conjuntos de entrenamiento y prueba\n",
    "y_train_pred_svm = modelo_svm.predict(X_train_c)\n",
    "y_test_pred_svm = modelo_svm.predict(X_test_c)\n",
    "\n",
    "# Evaluar el modelo\n",
    "from sklearn.metrics import accuracy_score, balanced_accuracy_score\n",
    "print(\"Accuracy - Train:\", accuracy_score(y_train_c, y_train_pred_svm))\n",
    "print(\"Accuracy - Test:\", accuracy_score(y_test_c, y_test_pred_svm))\n",
    "print(\"Balanced Accuracy - Train:\", balanced_accuracy_score(y_train_c, y_train_pred_svm))\n",
    "print(\"Balanced Accuracy - Test:\", balanced_accuracy_score(y_test_c, y_test_pred_svm))"
   ]
  },
  {
   "cell_type": "markdown",
   "metadata": {},
   "source": [
    "## Comparación de Modelos\n",
    "\n",
    "Para cada conjunto de datos, después de entrenar los modelos adicionales, puedes comparar sus métricas de rendimiento (MSE, R2 para regresión; Precisión, Recuerdo, F1 para clasificación) para determinar cuál es el más adecuado. La elección del mejor modelo puede depender no sólo de las métricas de rendimiento sino también de la importancia de ciertos tipos de errores en tu aplicación específica, la complejidad del modelo, el tiempo de entrenamiento, entre otros factores.\n",
    "\n",
    "Recuerda ajustar los parámetros de los modelos si es necesario, y considera realizar una validación cruzada para una evaluación más robusta. Si necesitas ayuda configurando algo específico o tienes alguna pregunta sobre los modelos, ¡estoy aquí para ayudarte!"
   ]
  },
  {
   "cell_type": "code",
   "execution_count": null,
   "metadata": {},
   "outputs": [],
   "source": []
  }
 ],
 "metadata": {
  "kernelspec": {
   "display_name": "Python 3 (ipykernel)",
   "language": "python",
   "name": "python3"
  },
  "language_info": {
   "codemirror_mode": {
    "name": "ipython",
    "version": 3
   },
   "file_extension": ".py",
   "mimetype": "text/x-python",
   "name": "python",
   "nbconvert_exporter": "python",
   "pygments_lexer": "ipython3",
   "version": "3.11.3"
  }
 },
 "nbformat": 4,
 "nbformat_minor": 2
}
